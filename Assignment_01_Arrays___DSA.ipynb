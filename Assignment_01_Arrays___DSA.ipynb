{
  "nbformat": 4,
  "nbformat_minor": 0,
  "metadata": {
    "colab": {
      "provenance": []
    },
    "kernelspec": {
      "name": "python3",
      "display_name": "Python 3"
    },
    "language_info": {
      "name": "python"
    }
  },
  "cells": [
    {
      "cell_type": "markdown",
      "source": [
        "Q1. Given an array of integers nums and an integer target, return indices of the two numbers such that they add up to target.\n",
        "\n",
        "You may assume that each input would have exactly one solution, and you may not use the same element twice.\n",
        "\n",
        "You can return the answer in any order.\n",
        "\n",
        "Example: Input: nums = [2,7,11,15], target = 9 Output0 [0,1]"
      ],
      "metadata": {
        "id": "apRW2OdB4kSw"
      }
    },
    {
      "cell_type": "code",
      "execution_count": 1,
      "metadata": {
        "colab": {
          "base_uri": "https://localhost:8080/"
        },
        "id": "CTx46x_h4Tka",
        "outputId": "701dfd7a-5c81-4ef3-f2e0-c31c305096fa"
      },
      "outputs": [
        {
          "output_type": "stream",
          "name": "stdout",
          "text": [
            "0 1\n"
          ]
        }
      ],
      "source": [
        "target = 9\n",
        "a = [2,7,11,15]\n",
        "for i in range(len(a)):\n",
        "  for j in range(1,len(a)):\n",
        "    if a[i] + a[j] == target:\n",
        "      print(i,j)"
      ]
    },
    {
      "cell_type": "markdown",
      "source": [
        "Q2. Given an integer array nums and an integer val, remove all occurrences of val in nums in-place. The order of the elements may be changed. Then return the number of elements in nums which are not equal to val.\n",
        "\n",
        "Consider the number of elements in nums which are not equal to val be k, to get accepted, you need to do the following things:\n",
        "\n",
        "Change the array nums such that the first k elements of nums contain the elements which are not equal to val. The remaining elements of nums are not important as well as the size of nums.\n",
        "Return k."
      ],
      "metadata": {
        "id": "cSvbSFFu4ohZ"
      }
    },
    {
      "cell_type": "code",
      "source": [
        "nums = [3,2,2,5,3]\n",
        "val = 3\n",
        "left = 0\n",
        "right = len(nums) -1\n",
        "while left <= right:\n",
        "  if nums[left] == val:\n",
        "    nums[left], nums[right] = nums[right], nums[left]\n",
        "    right -= 1\n",
        "  else:\n",
        "    left += 1\n",
        "print(left)\n",
        "print(nums[:left])"
      ],
      "metadata": {
        "colab": {
          "base_uri": "https://localhost:8080/"
        },
        "id": "qTm0nJUm4nef",
        "outputId": "ebfb3dc3-079b-4a2c-d570-852ad42937f8"
      },
      "execution_count": 2,
      "outputs": [
        {
          "output_type": "stream",
          "name": "stdout",
          "text": [
            "3\n",
            "[5, 2, 2]\n"
          ]
        }
      ]
    },
    {
      "cell_type": "markdown",
      "source": [
        "Given a sorted array of distinct integers and a target value, return the index if the target is found. If not, return the index where it would be if it were inserted in order.\n",
        "\n",
        "You must write an algorithm with O(log n) runtime complexity.\n",
        "\n",
        "Example 1: Input: nums = [1,3,5,6], target = 5\n",
        "\n",
        "Output: 2"
      ],
      "metadata": {
        "id": "uPKYMwIo4zce"
      }
    },
    {
      "cell_type": "code",
      "source": [
        "nums = [1,3,5,6]\n",
        "target = 4\n",
        "left = 0\n",
        "right = len(nums) - 1\n",
        "while left <= right:\n",
        "  mid = (left + right) // 2\n",
        "  if nums[mid] == target:\n",
        "    print(mid)\n",
        "    break\n",
        "  elif nums[mid] < target:\n",
        "    left = mid + 1\n",
        "  else:\n",
        "    right = mid - 1\n",
        "print(left)\n"
      ],
      "metadata": {
        "colab": {
          "base_uri": "https://localhost:8080/"
        },
        "id": "S51OhqPY4wVN",
        "outputId": "343b40a0-6f87-4196-b162-f85908a18b00"
      },
      "execution_count": 3,
      "outputs": [
        {
          "output_type": "stream",
          "name": "stdout",
          "text": [
            "2\n"
          ]
        }
      ]
    },
    {
      "cell_type": "markdown",
      "source": [
        "\n",
        "Q4. You are given a large integer represented as an integer array digits, where each digits[i] is the ith digit of the integer. The digits are ordered from most significant to least significant in left-to-right order. The large integer does not contain any leading 0's.\n",
        "\n",
        "Increment the large integer by one and return the resulting array of digits.\n",
        "\n",
        "**Example 1:**\n",
        "Input: digits = [1,2,3]\n",
        "Output: [1,2,4]\n"
      ],
      "metadata": {
        "id": "u0heD-iE5Sf0"
      }
    },
    {
      "cell_type": "code",
      "source": [
        "def incrementInteger(digits):\n",
        "    carry = 1\n",
        "    n = len(digits)\n",
        "    \n",
        "    for i in range(n - 1, -1, -1):\n",
        "        sum = digits[i] + carry\n",
        "        digits[i] = sum % 10\n",
        "        carry = sum // 10\n",
        "\n",
        "    if carry > 0:\n",
        "        digits.insert(0, carry)\n",
        "    \n",
        "    return digits\n",
        "\n",
        "digits = [9, 9, 9]  # The large integer is 129\n",
        "result = incrementInteger(digits)\n",
        "print(result)"
      ],
      "metadata": {
        "colab": {
          "base_uri": "https://localhost:8080/"
        },
        "id": "xTm6vWaP41u2",
        "outputId": "0da37e3c-3cb6-4986-db98-19d60338ade1"
      },
      "execution_count": 5,
      "outputs": [
        {
          "output_type": "stream",
          "name": "stdout",
          "text": [
            "[1, 0, 0, 0]\n"
          ]
        }
      ]
    },
    {
      "cell_type": "markdown",
      "source": [
        "Q5. You are given two integer arrays nums1 and nums2, sorted in non-decreasing order, and two integers m and n, representing the number of elements in nums1 and nums2 respectively.\n",
        "\n",
        "Merge nums1 and nums2 into a single array sorted in non-decreasing order.\n",
        "\n",
        "The final sorted array should not be returned by the function, but instead be stored inside the array nums1. To accommodate this, nums1 has a length of m + n, where the first m elements denote the elements that should be merged, and the last n elements are set to 0 and should be ignored. nums2 has a length of n.\n",
        "\n",
        "**Example 1:**\n",
        "Input: nums1 = [1,2,3,0,0,0], m = 3, nums2 = [2,5,6], n = 3\n",
        "Output: [1,2,2,3,5,6]\n"
      ],
      "metadata": {
        "id": "B__DCAEG52d1"
      }
    },
    {
      "cell_type": "code",
      "source": [
        "def merge(nums1, m, nums2, n):\n",
        "    p1 = m - 1\n",
        "    p2 = n - 1\n",
        "    p = m + n - 1\n",
        "    \n",
        "    while p1 >= 0 and p2 >= 0:\n",
        "        if nums1[p1] > nums2[p2]:\n",
        "            nums1[p] = nums1[p1]\n",
        "            p1 -= 1\n",
        "        else:\n",
        "            nums1[p] = nums2[p2]\n",
        "            p2 -= 1\n",
        "        p -= 1\n",
        "\n",
        "    while p2 >= 0:\n",
        "        nums1[p] = nums2[p2]\n",
        "        p2 -= 1\n",
        "        p -= 1\n",
        "\n",
        "    return nums1\n",
        "\n",
        "\n",
        "nums1 = [1,2,3,0,0,0] \n",
        "m = 3\n",
        "nums2 = [2,5,6] \n",
        "n = 3\n",
        "result = merge(nums1, m, nums2, n)\n",
        "print(result)"
      ],
      "metadata": {
        "colab": {
          "base_uri": "https://localhost:8080/"
        },
        "id": "HAjjH0vP5t6n",
        "outputId": "99a8c777-2097-4485-91fe-19d75cdd56c8"
      },
      "execution_count": 6,
      "outputs": [
        {
          "output_type": "stream",
          "name": "stdout",
          "text": [
            "[1, 2, 2, 3, 5, 6]\n"
          ]
        }
      ]
    },
    {
      "cell_type": "markdown",
      "source": [
        "Q6. Given an integer array nums, return true if any value appears at least twice in the array, and return false if every element is distinct.\n",
        "\n",
        "**Example 1:**\n",
        "Input: nums = [1,2,3,1]\n",
        "\n",
        "Output: true\n",
        "\n"
      ],
      "metadata": {
        "id": "qbBU53ic6DrK"
      }
    },
    {
      "cell_type": "code",
      "source": [
        "def containsDuplicate(nums):\n",
        "    num_set = set()\n",
        "\n",
        "    for num in nums:\n",
        "        if num in num_set:\n",
        "            return True\n",
        "        num_set.add(num)\n",
        "\n",
        "    return False\n",
        "\n",
        "\n",
        "nums = [0,1,0,3,12]\n",
        "result = containsDuplicate(nums)\n",
        "print(result)  \n"
      ],
      "metadata": {
        "colab": {
          "base_uri": "https://localhost:8080/"
        },
        "id": "b3E1vdSH6L3z",
        "outputId": "b5bf80d7-2e54-42d1-d77b-63941850ab40"
      },
      "execution_count": 8,
      "outputs": [
        {
          "output_type": "stream",
          "name": "stdout",
          "text": [
            "True\n"
          ]
        }
      ]
    },
    {
      "cell_type": "markdown",
      "source": [
        "Q7. Given an integer array nums, move all 0's to the end of it while maintaining the relative order of the nonzero elements.\n",
        "\n",
        "Note that you must do this in-place without making a copy of the array.\n",
        "\n",
        "**Example 1:**\n",
        "Input: nums = [0,1,0,3,12]\n",
        "Output: [1,3,12,0,0]\n"
      ],
      "metadata": {
        "id": "lgWZSwU26Vza"
      }
    },
    {
      "cell_type": "code",
      "source": [
        "def moveZeroes(nums):\n",
        "    n = len(nums)\n",
        "    j = 0\n",
        "\n",
        "    for i in range(n):\n",
        "        if nums[i] != 0:\n",
        "            nums[i], nums[j] = nums[j], nums[i]\n",
        "            j += 1\n",
        "\n",
        "    for i in range(j, n):\n",
        "        nums[i] = 0\n",
        "\n",
        "nums = [0, 1, 0, 3, 12]\n",
        "moveZeroes(nums)\n",
        "print(nums) \n"
      ],
      "metadata": {
        "colab": {
          "base_uri": "https://localhost:8080/"
        },
        "id": "sO65tuKX6ZEp",
        "outputId": "95a7c8bb-9693-41ac-c176-78df54cd7c16"
      },
      "execution_count": 9,
      "outputs": [
        {
          "output_type": "stream",
          "name": "stdout",
          "text": [
            "[1, 3, 12, 0, 0]\n"
          ]
        }
      ]
    },
    {
      "cell_type": "markdown",
      "source": [
        "Q8. You have a set of integers s, which originally contains all the numbers from 1 to n. Unfortunately, due to some error, one of the numbers in s got duplicated to another number in the set, which results in repetition of one number and loss of another number.\n",
        "\n",
        "You are given an integer array nums representing the data status of this set after the error.\n",
        "\n",
        "Find the number that occurs twice and the number that is missing and return them in the form of an array.\n",
        "\n",
        "**Example 1:**\n",
        "Input: nums = [1,2,2,4]\n",
        "Output: [2,3]\n"
      ],
      "metadata": {
        "id": "YLIW_ktC6ZzV"
      }
    },
    {
      "cell_type": "code",
      "source": [
        "def findErrorNums(nums):\n",
        "    numSet = set()\n",
        "    duplicate = -1\n",
        "    missing = -1\n",
        "    \n",
        "    for num in nums:\n",
        "        if num in numSet:\n",
        "            duplicate = num\n",
        "        numSet.add(num)\n",
        "    \n",
        "    n = len(nums)\n",
        "    for i in range(1, n + 1):\n",
        "        if i not in numSet:\n",
        "            missing = i\n",
        "            break\n",
        "    \n",
        "    return [duplicate, missing]\n",
        "\n",
        "nums = [1, 2, 2, 4]\n",
        "result = findErrorNums(nums)\n",
        "print(result)  \n"
      ],
      "metadata": {
        "colab": {
          "base_uri": "https://localhost:8080/"
        },
        "id": "D1l0_73d6gCW",
        "outputId": "7968254c-c680-4a39-c243-ea0ab8b78131"
      },
      "execution_count": 10,
      "outputs": [
        {
          "output_type": "stream",
          "name": "stdout",
          "text": [
            "[2, 3]\n"
          ]
        }
      ]
    },
    {
      "cell_type": "code",
      "source": [],
      "metadata": {
        "id": "BKodbTri7sr2"
      },
      "execution_count": null,
      "outputs": []
    }
  ]
}