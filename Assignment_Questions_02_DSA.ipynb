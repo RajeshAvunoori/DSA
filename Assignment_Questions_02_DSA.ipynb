{
  "nbformat": 4,
  "nbformat_minor": 0,
  "metadata": {
    "colab": {
      "provenance": []
    },
    "kernelspec": {
      "name": "python3",
      "display_name": "Python 3"
    },
    "language_info": {
      "name": "python"
    }
  },
  "cells": [
    {
      "cell_type": "markdown",
      "source": [
        "Question 1\n",
        "Given an integer array nums of 2n integers, group these integers into n pairs (a1, b1), (a2, b2),..., (an, bn) such that the sum of min(ai, bi) for all i is maximized. Return the maximized sum.\n",
        "\n",
        "Example 1:\n",
        "Input: nums = [1,4,3,2]\n",
        "Output: 4"
      ],
      "metadata": {
        "id": "DRf9gpoWB_7f"
      }
    },
    {
      "cell_type": "code",
      "execution_count": null,
      "metadata": {
        "colab": {
          "base_uri": "https://localhost:8080/"
        },
        "id": "yt9eoMKMB37w",
        "outputId": "a36c40f5-8210-43d3-f366-c4d9a9e6cba0"
      },
      "outputs": [
        {
          "output_type": "stream",
          "name": "stdout",
          "text": [
            "4\n"
          ]
        }
      ],
      "source": [
        "def maxsum(nums,j):\n",
        "  max = 0\n",
        "  nums.sort()\n",
        "  for i in range(0,j-1,2):\n",
        "    max = nums[i]+max\n",
        "  return max\n",
        "\n",
        "nums = [1,4,3,2]\n",
        "j = len(nums)\n",
        "result = maxsum(nums,j)\n",
        "print(result)\n"
      ]
    },
    {
      "cell_type": "markdown",
      "source": [
        "Question 2\n",
        "Alice has n candies, where the ith candy is of type candyType[i]. Alice noticed that she started to gain weight, so she visited a doctor. \n",
        "\n",
        "The doctor advised Alice to only eat n / 2 of the candies she has (n is always even). Alice likes her candies very much, and she wants to eat the maximum number of different types of candies while still following the doctor's advice. \n",
        "\n",
        "Given the integer array candyType of length n, return the maximum number of different types of candies she can eat if she only eats n / 2 of them.\n"
      ],
      "metadata": {
        "id": "zGY5IyLgEP3I"
      }
    },
    {
      "cell_type": "code",
      "source": [
        "def maxUniqueCandies(candyType):\n",
        "    n = len(candyType)\n",
        "    uniqueCandies = set()\n",
        "    for candy in candyType:\n",
        "        uniqueCandies.add(candy)\n",
        "        if len(uniqueCandies) == n // 2:\n",
        "            break\n",
        "    return len(uniqueCandies)\n",
        "\n",
        "candyType = [1,1,2,2,3,3]\n",
        "result = maxUniqueCandies(candyType)\n",
        "print(result)"
      ],
      "metadata": {
        "id": "W1JicFfjEI9L",
        "colab": {
          "base_uri": "https://localhost:8080/"
        },
        "outputId": "eed09b7f-1e0f-4355-9611-55f7445a93e7"
      },
      "execution_count": 36,
      "outputs": [
        {
          "output_type": "stream",
          "name": "stdout",
          "text": [
            "3\n"
          ]
        }
      ]
    },
    {
      "cell_type": "markdown",
      "source": [
        "Question 3\n",
        "We define a harmonious array as an array where the difference between its maximum value\n",
        "and its minimum value is exactly 1.\n",
        "\n",
        "Given an integer array nums, return the length of its longest harmonious subsequence\n",
        "among all its possible subsequences.\n",
        "\n",
        "A subsequence of an array is a sequence that can be derived from the array by deleting some or no elements without changing the order of the remaining elements.\n",
        "\n",
        "Example 1:\n",
        "Input: nums = [1,3,2,2,5,2,3,7]\n",
        "Output: 5"
      ],
      "metadata": {
        "id": "sXCNObFlHsMw"
      }
    },
    {
      "cell_type": "code",
      "source": [
        "def findLHS(nums):\n",
        "    freq = {}\n",
        "    for num in nums:\n",
        "        freq[num] = freq.get(num, 0) + 1\n",
        "\n",
        "    max_length = 0\n",
        "    for num in freq:\n",
        "        if num + 1 in freq:\n",
        "            max_length = max(max_length, freq[num] + freq[num + 1])\n",
        "\n",
        "    return max_length\n",
        "\n",
        "nums = [1, 3, 2, 2, 5, 2, 3, 7]\n",
        "result = findLHS(nums)\n",
        "print(result)\n"
      ],
      "metadata": {
        "id": "arhOjMZIHu9o",
        "colab": {
          "base_uri": "https://localhost:8080/"
        },
        "outputId": "03be95a0-2ea8-47d6-ebf1-f4487289cad7"
      },
      "execution_count": 37,
      "outputs": [
        {
          "output_type": "stream",
          "name": "stdout",
          "text": [
            "5\n"
          ]
        }
      ]
    },
    {
      "cell_type": "markdown",
      "source": [
        "Question 4\n",
        "You have a long flowerbed in which some of the plots are planted, and some are not.\n",
        "However, flowers cannot be planted in adjacent plots.\n",
        "Given an integer array flowerbed containing 0's and 1's, where 0 means empty and 1 means not empty, and an integer n, return true if n new flowers can be planted in the flowerbed without violating the no-adjacent-flowers rule and false otherwise.\n",
        "\n",
        "Example 1:\n",
        "Input: flowerbed = [1,0,0,0,1], n = 1\n",
        "Output: true\n"
      ],
      "metadata": {
        "id": "SzzIVf240EC6"
      }
    },
    {
      "cell_type": "code",
      "source": [
        "def flower(flowerbed,n):\n",
        "  count = 0\n",
        "  length = len(flowerbed)\n",
        "  for i in range(length):\n",
        "    if flowerbed[i] == 0 and (i == 0 or flowerbed[i - 1] == 0) and (i == length - 1 or flowerbed[i + 1] == 0):\n",
        "      flowerbed[i] = 1\n",
        "      count += 1\n",
        "    if count >= n:\n",
        "      return True\n",
        "  return False\n",
        "\n",
        "flowerbed = [1,0,0,0,1]\n",
        "n = 2\n",
        "result = flower(flowerbed,n)\n",
        "print(result)\n"
      ],
      "metadata": {
        "id": "fN56-kA5ml6T",
        "colab": {
          "base_uri": "https://localhost:8080/"
        },
        "outputId": "fda3328e-443e-4850-f1ce-2b244b50080e"
      },
      "execution_count": 9,
      "outputs": [
        {
          "output_type": "stream",
          "name": "stdout",
          "text": [
            "False\n"
          ]
        }
      ]
    },
    {
      "cell_type": "markdown",
      "source": [
        "Question 5\n",
        "Given an integer array nums, find three numbers whose product is maximum and return the maximum product.\n",
        "\n",
        "Example 1:\n",
        "Input: nums = [1,2,3]\n",
        "Output: 6"
      ],
      "metadata": {
        "id": "qVvql8WB4Xcy"
      }
    },
    {
      "cell_type": "code",
      "source": [
        "def maxsum(nums):\n",
        "  length = len(nums)\n",
        "  nums.sort()\n",
        "  return(nums[length-1] * nums[length-2] )\n",
        "\n",
        "nums = [1,5,7,12,2,3]\n",
        "result = maxsum(nums)\n",
        "print(result)"
      ],
      "metadata": {
        "colab": {
          "base_uri": "https://localhost:8080/"
        },
        "id": "Tc1qjBje2d8x",
        "outputId": "72dce3d0-5062-4b4a-e621-4b32698248ec"
      },
      "execution_count": 20,
      "outputs": [
        {
          "output_type": "stream",
          "name": "stdout",
          "text": [
            "84\n"
          ]
        }
      ]
    },
    {
      "cell_type": "markdown",
      "source": [
        "Question 6\n",
        "Given an array of integers nums which is sorted in ascending order, and an integer target,\n",
        "write a function to search target in nums. If target exists, then return its index. Otherwise,\n",
        "return -1.\n",
        "\n",
        "You must write an algorithm with O(log n) runtime complexity.\n",
        "\n",
        "Input: nums = [-1,0,3,5,9,12], target = 9\n",
        "Output: 4"
      ],
      "metadata": {
        "id": "gFo2ahI15kbq"
      }
    },
    {
      "cell_type": "code",
      "source": [
        "def numsearch(nums,target):\n",
        "  j = len(nums)-1\n",
        "  i = 0 \n",
        "  while i<=j:\n",
        "    mid = (i+j)//2\n",
        "    if nums[mid]<target:\n",
        "      i = mid+1\n",
        "    elif nums[mid]>target:\n",
        "      j = mid-1\n",
        "    else:\n",
        "      return mid\n",
        "  return -1\n",
        "  \n",
        "  \n",
        "\n",
        "nums = [-1,0,3,5,9,12]\n",
        "target = 10\n",
        "result = numsearch(nums,target)\n",
        "print(result)"
      ],
      "metadata": {
        "colab": {
          "base_uri": "https://localhost:8080/"
        },
        "id": "H1ri7Vy15Wrb",
        "outputId": "ea052c80-a9bd-4b82-cd82-607e60f10321"
      },
      "execution_count": 32,
      "outputs": [
        {
          "output_type": "stream",
          "name": "stdout",
          "text": [
            "-1\n"
          ]
        }
      ]
    },
    {
      "cell_type": "markdown",
      "source": [
        "Question 7\n",
        "An array is monotonic if it is either monotone increasing or monotone decreasing.\n",
        "\n",
        "An array nums is monotone increasing if for all i <= j, nums[i] <= nums[j]. An array nums is\n",
        "monotone decreasing if for all i <= j, nums[i] >= nums[j].\n",
        "\n",
        "Given an integer array nums, return true if the given array is monotonic, or false otherwise.\n",
        "\n",
        "Example 1:\n",
        "Input: nums = [1,2,2,3]\n",
        "Output: true"
      ],
      "metadata": {
        "id": "b0n3ISNW-QFb"
      }
    },
    {
      "cell_type": "code",
      "source": [
        "def monotone(nums):\n",
        "  increasing = True\n",
        "  decreasing = True\n",
        "  for i in range(1, len(nums)-1):\n",
        "    if nums[i]>nums[i-1]:\n",
        "      decreasing = False\n",
        "    if nums[i]<nums[i-1]:\n",
        "      increasing = False\n",
        "  return increasing or decreasing\n",
        "\n",
        "\n",
        "nums = [1,2,2,3]\n",
        "result = monotone(nums)\n",
        "print(result)"
      ],
      "metadata": {
        "colab": {
          "base_uri": "https://localhost:8080/"
        },
        "id": "7se-MN767hJY",
        "outputId": "d4b7c98d-20ac-4da6-d0d8-f79c5a590085"
      },
      "execution_count": 33,
      "outputs": [
        {
          "output_type": "stream",
          "name": "stdout",
          "text": [
            "True\n"
          ]
        }
      ]
    },
    {
      "cell_type": "markdown",
      "source": [
        "Question 8\n",
        "You are given an integer array nums and an integer k.\n",
        "\n",
        "In one operation, you can choose any index i where 0 <= i < nums.length and change nums[i] to nums[i] + x where x is an integer from the range [-k, k]. You can apply this operation at most once for each index i.\n",
        "\n",
        "The score of nums is the difference between the maximum and minimum elements in nums.\n",
        "\n",
        "Return the minimum score of nums after applying the mentioned operation at most once for each index in it.\n",
        "\n",
        "Example 1:\n",
        "Input: nums = [1], k = 0\n",
        "Output: 0\n"
      ],
      "metadata": {
        "id": "R395eQyBDwxT"
      }
    },
    {
      "cell_type": "code",
      "source": [
        "def minscore(nums, k):\n",
        "    min_num = float('inf')\n",
        "    max_num = float('-inf')\n",
        "\n",
        "    for num in nums:\n",
        "        min_num = min(min_num, num - k)\n",
        "        max_num = max(max_num, num + k)\n",
        "\n",
        "    return max_num - min_num\n",
        "\n",
        "nums = [1]\n",
        "k = 0\n",
        "result = minscore(nums,k)\n",
        "print(result)"
      ],
      "metadata": {
        "colab": {
          "base_uri": "https://localhost:8080/"
        },
        "id": "joYZ_CMLDpUC",
        "outputId": "23e3eca8-c422-4e57-d6b2-860e5b850848"
      },
      "execution_count": 35,
      "outputs": [
        {
          "output_type": "stream",
          "name": "stdout",
          "text": [
            "0\n"
          ]
        }
      ]
    },
    {
      "cell_type": "code",
      "source": [],
      "metadata": {
        "id": "XhD91NS3GL_l"
      },
      "execution_count": null,
      "outputs": []
    }
  ]
}