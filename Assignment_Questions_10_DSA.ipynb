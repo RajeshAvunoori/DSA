{
  "nbformat": 4,
  "nbformat_minor": 0,
  "metadata": {
    "colab": {
      "provenance": []
    },
    "kernelspec": {
      "name": "python3",
      "display_name": "Python 3"
    },
    "language_info": {
      "name": "python"
    }
  },
  "cells": [
    {
      "cell_type": "markdown",
      "source": [
        "\n",
        " **Question 1**\n",
        "\n",
        "Given an integer n, return true if it is a power of three. Otherwise, return false.\n",
        "\n",
        "An integer nis a power of three, if there exists an integer x such that  n == 3x.\n",
        "\n",
        "**Example 1:**\n",
        "Input: n = 27\n",
        "Output: true\n",
        "Explanation: 27 = 33\n"
      ],
      "metadata": {
        "id": "dekR875gXhe0"
      }
    },
    {
      "cell_type": "code",
      "execution_count": null,
      "metadata": {
        "colab": {
          "base_uri": "https://localhost:8080/"
        },
        "id": "ooilOvd0Xb44",
        "outputId": "55408aaf-6401-4999-aa51-fabd8f746563"
      },
      "outputs": [
        {
          "output_type": "stream",
          "name": "stdout",
          "text": [
            "True\n"
          ]
        }
      ],
      "source": [
        "def powerof3(n):\n",
        "  if n == 1:\n",
        "    return True\n",
        "  elif n <= 0:\n",
        "    return False\n",
        "  elif n%3 == 0:\n",
        "    return powerof3(n//3)\n",
        "  return False\n",
        "\n",
        "n = 27\n",
        "result = powerof3(n)\n",
        "print(result)"
      ]
    },
    {
      "cell_type": "markdown",
      "source": [
        " **Question 2**\n",
        "\n",
        "You have a list `arr` of all integers in the range `[1, n]` sorted in a strictly increasing order. Apply the following algorithm on `arr`:\n",
        "\n",
        "- Starting from left to right, remove the first number and every other number afterward until you reach the end of the list.\n",
        "- Repeat the previous step again, but this time from right to left, remove the rightmost number and every other number from the remaining numbers.\n",
        "- Keep repeating the steps again, alternating left to right and right to left, until a single number remains.\n",
        "\n",
        "Given the integer `n`, return *the last number that remains in* `arr`\n",
        "\n",
        "Example 1:\n",
        "Input: n = 9\n",
        "Output: 6\n",
        "Explanation:\n",
        "arr = [1, 2,3, 4,5, 6,7, 8,9]\n",
        "arr = [2,4, 6,8]\n",
        "arr = [2, 6]\n",
        "arr = [6]\n",
        "\n",
        "\n"
      ],
      "metadata": {
        "id": "iFJc_0zrXgRz"
      }
    },
    {
      "cell_type": "code",
      "source": [
        "def lastRemaining(n):\n",
        "    if n == 1:\n",
        "        return 1\n",
        "    else:\n",
        "        return 2 * (n // 2 + 1 - lastRemaining(n // 2))\n",
        "\n",
        "n = 9\n",
        "last_num = lastRemaining(n)\n",
        "print(last_num)\n"
      ],
      "metadata": {
        "id": "wV7BuQ5meRLy",
        "colab": {
          "base_uri": "https://localhost:8080/"
        },
        "outputId": "65d71c1e-804a-4fc3-9615-3c06b56729b7"
      },
      "execution_count": 1,
      "outputs": [
        {
          "output_type": "stream",
          "name": "stdout",
          "text": [
            "6\n"
          ]
        }
      ]
    },
    {
      "cell_type": "markdown",
      "source": [
        " **Question 3**\n",
        "\n",
        "Given a set represented as a string, write a recursive code to print all subsets of it. The subsets can be printed in any order.\n",
        "\n",
        "**Example 1:**\n",
        "\n",
        "Input :  set = “abc”\n",
        "\n",
        "Output : { “”, “a”, “b”, “c”, “ab”, “ac”, “bc”, “abc”}\n",
        "\n"
      ],
      "metadata": {
        "id": "-C8vIF07fB4-"
      }
    },
    {
      "cell_type": "code",
      "source": [
        "def printSubsets(s, current_subset=\"\", index=0):\n",
        "  if index == len(s):\n",
        "    print(current_subset)\n",
        "    return\n",
        "  printSubsets(s, current_subset + s[index], index + 1)\n",
        "  printSubsets(s, current_subset, index + 1)\n",
        "\n",
        "s = \"abc\"\n",
        "printSubsets(s)\n"
      ],
      "metadata": {
        "id": "boeq6pfgfEMn",
        "colab": {
          "base_uri": "https://localhost:8080/"
        },
        "outputId": "c73f2fc1-ba12-4690-b0cf-dfa3f9f27cb0"
      },
      "execution_count": 12,
      "outputs": [
        {
          "output_type": "stream",
          "name": "stdout",
          "text": [
            "abc\n",
            "ab\n",
            "ac\n",
            "a\n",
            "bc\n",
            "b\n",
            "c\n",
            "\n"
          ]
        }
      ]
    },
    {
      "cell_type": "markdown",
      "source": [
        " **Question 4**\n",
        "\n",
        "Given a string calculate length of the string using recursion.\n",
        "\n",
        "**Examples:**\n",
        "\n",
        "Input : str = \"abcd\"\n",
        "Output :4"
      ],
      "metadata": {
        "id": "-cqsNl_efekW"
      }
    },
    {
      "cell_type": "code",
      "source": [
        "def length(string):\n",
        "  if string == \"\":\n",
        "    return 0\n",
        "  return 1 + length(string[1:])\n",
        "\n",
        "\n",
        "string = \"abcd\" \n",
        "length(string)"
      ],
      "metadata": {
        "colab": {
          "base_uri": "https://localhost:8080/"
        },
        "id": "16-E9mhhfn7x",
        "outputId": "c3aee2b9-8963-4054-9dcb-5666fd1663a3"
      },
      "execution_count": null,
      "outputs": [
        {
          "output_type": "execute_result",
          "data": {
            "text/plain": [
              "4"
            ]
          },
          "metadata": {},
          "execution_count": 29
        }
      ]
    },
    {
      "cell_type": "markdown",
      "source": [
        " **Question 5**\n",
        "\n",
        "We are given a string S, we need to find count of all contiguous substrings starting and ending with same character.\n",
        "\n",
        "Input  : S = \"abcab\"\n",
        "Output : 7\n",
        "There are 15 substrings of \"abcab\"\n",
        "a, ab, abc, abca, abcab, b, bc, bca\n",
        "bcab, c, ca, cab, a, ab, b\n",
        "Out of the above substrings, there\n",
        "are 7 substrings : a, abca, b, bcab,\n",
        "c, a and b.\n",
        "\n",
        "Input  : S = \"aba\"\n",
        "Output : 4\n",
        "The substrings are a, b, a and aba"
      ],
      "metadata": {
        "id": "icTOb1GfhaF2"
      }
    },
    {
      "cell_type": "code",
      "source": [
        "def countSubstrings(S):\n",
        "    count = 0\n",
        "    n = len(S)\n",
        "\n",
        " \n",
        "    for i in range(n):\n",
        "        \n",
        "        j = i\n",
        "        while j < n:\n",
        "            if S[i] == S[j]:\n",
        "                count += 1\n",
        "            j += 1\n",
        "\n",
        "    return count\n",
        "\n",
        "\n",
        "S = \"aba\"\n",
        "substring_count = countSubstrings(S)\n",
        "print(substring_count)\n"
      ],
      "metadata": {
        "colab": {
          "base_uri": "https://localhost:8080/"
        },
        "id": "qITtL6mJgzfL",
        "outputId": "e165c802-0eca-4fe0-c0f8-be64710149bb"
      },
      "execution_count": 3,
      "outputs": [
        {
          "output_type": "stream",
          "name": "stdout",
          "text": [
            "4\n"
          ]
        }
      ]
    },
    {
      "cell_type": "markdown",
      "source": [
        " **Question 6**\n",
        "\n",
        "The [tower of Hanoi](https://en.wikipedia.org/wiki/Tower_of_Hanoi) is a famous puzzle where we have three rods and **N** disks. The objective of the puzzle is to move the entire stack to another rod. You are given the number of discs **N**. Initially, these discs are in the rod 1. You need to print all the steps of discs movement so that all the discs reach the 3rd rod. Also, you need to find the total moves.**Note:** The discs are arranged such that the **top disc is numbered 1** and the **bottom-most disc is numbered N**. Also, all the discs have **different sizes** and a bigger disc **cannot** be put on the top of a smaller disc. Refer the provided link to get a better clarity about the puzzle.\n",
        "\n",
        "Input:\n",
        "N = 2\n",
        "Output:\n",
        "move disk 1 from rod 1 to rod 2\n",
        "move disk 2 from rod 1 to rod 3\n",
        "move disk 1 from rod 2 to rod 3\n",
        "3\n"
      ],
      "metadata": {
        "id": "0UMqPGH6lWzL"
      }
    },
    {
      "cell_type": "code",
      "source": [
        "def towerOfHanoi(n, source, destination, auxiliary):\n",
        "    if n == 1:\n",
        "        print(f\"Move disk 1 from rod {source} to rod {destination}\")\n",
        "        return 1\n",
        "\n",
        "    moves = 0\n",
        "\n",
        "    moves += towerOfHanoi(n - 1, source, auxiliary, destination)\n",
        "\n",
        "    print(f\"Move disk {n} from rod {source} to rod {destination}\")\n",
        "    moves += 1\n",
        "\n",
        "    moves += towerOfHanoi(n - 1, auxiliary, destination, source)\n",
        "\n",
        "    return moves\n",
        "\n",
        "\n",
        "n = 2\n",
        "total_moves = towerOfHanoi(n, 1, 3, 2)\n",
        "print(f\"Total moves: {total_moves}\")\n"
      ],
      "metadata": {
        "id": "yLwvULdfg44I",
        "colab": {
          "base_uri": "https://localhost:8080/"
        },
        "outputId": "3564450b-caf1-4d13-90c6-3a2862989b21"
      },
      "execution_count": 5,
      "outputs": [
        {
          "output_type": "stream",
          "name": "stdout",
          "text": [
            "Move disk 1 from rod 1 to rod 2\n",
            "Move disk 2 from rod 1 to rod 3\n",
            "Move disk 1 from rod 2 to rod 3\n",
            "Total moves: 3\n"
          ]
        }
      ]
    },
    {
      "cell_type": "markdown",
      "source": [
        " **Question 7**\n",
        "\n",
        "Given a string **str**, the task is to print all the permutations of **str**. A **permutation** is an arrangement of all or part of a set of objects, with regard to the order of the arrangement. For instance, the words ‘bat’ and ‘tab’ represents two distinct permutation (or arrangements) of a similar three letter word.\n",
        "\n",
        "**Examples:**\n",
        "\n",
        "Input: str = “cd”\n",
        "**Output:** cd dc\n"
      ],
      "metadata": {
        "id": "U30zmX6llhDU"
      }
    },
    {
      "cell_type": "code",
      "source": [
        "def permutations(str):\n",
        "    \n",
        "    if len(str) == 1:\n",
        "        return [str]\n",
        "\n",
        "    result = []  \n",
        "\n",
        "    \n",
        "    for i in range(len(str)):\n",
        "        \n",
        "        first_char = str[i]\n",
        "        remaining_chars = str[:i] + str[i+1:]\n",
        "\n",
        "\n",
        "        sub_permutations = permutations(remaining_chars)\n",
        "\n",
        "        \n",
        "        for sub_permutation in sub_permutations:\n",
        "            result.append(first_char + sub_permutation)\n",
        "\n",
        "    return result\n",
        "\n",
        "\n",
        "str = \"abc\"\n",
        "all_permutations = permutations(str)\n",
        "for permutation in all_permutations:\n",
        "    print(permutation)\n"
      ],
      "metadata": {
        "colab": {
          "base_uri": "https://localhost:8080/"
        },
        "id": "T-4xhxaFluqd",
        "outputId": "f039229f-805a-4885-f9fa-f666802a5748"
      },
      "execution_count": 6,
      "outputs": [
        {
          "output_type": "stream",
          "name": "stdout",
          "text": [
            "abc\n",
            "acb\n",
            "bac\n",
            "bca\n",
            "cab\n",
            "cba\n"
          ]
        }
      ]
    },
    {
      "cell_type": "markdown",
      "source": [
        "**Question 8**\n",
        "\n",
        "Given a string, count total number of consonants in it. A consonant is an English alphabet character that is not vowel (a, e, i, o and u). Examples of constants are b, c, d, f, and g.\n",
        "\n",
        "Input : abc de\n",
        "Output : 3\n",
        "There are three consonants b, c and d.\n",
        "\n",
        "Input : geeksforgeeks portal\n",
        "Output : 12"
      ],
      "metadata": {
        "id": "Fw8GEmi0lybi"
      }
    },
    {
      "cell_type": "code",
      "source": [
        "def countConsonants(str):\n",
        "    consonants = 'bcdfghjklmnpqrstvwxyzBCDFGHJKLMNPQRSTVWXYZ'\n",
        "    count = 0\n",
        "\n",
        "    for char in str:\n",
        "        if char in consonants:\n",
        "            count += 1\n",
        "\n",
        "    return count\n",
        "\n",
        "\n",
        "str = \"abcde\"\n",
        "consonant_count = countConsonants(str)\n",
        "print(consonant_count)\n"
      ],
      "metadata": {
        "colab": {
          "base_uri": "https://localhost:8080/"
        },
        "id": "lp2XSsgRl5MC",
        "outputId": "6d3c2ed4-9f72-415a-c477-2246fe5ad9c3"
      },
      "execution_count": 9,
      "outputs": [
        {
          "output_type": "stream",
          "name": "stdout",
          "text": [
            "3\n"
          ]
        }
      ]
    },
    {
      "cell_type": "code",
      "source": [],
      "metadata": {
        "id": "l7cIflYZnMKJ"
      },
      "execution_count": null,
      "outputs": []
    }
  ]
}