{
  "nbformat": 4,
  "nbformat_minor": 0,
  "metadata": {
    "colab": {
      "provenance": []
    },
    "kernelspec": {
      "name": "python3",
      "display_name": "Python 3"
    },
    "language_info": {
      "name": "python"
    }
  },
  "cells": [
    {
      "cell_type": "markdown",
      "source": [
        "Question 1\n",
        "Given a non-negative integer `x`, return *the square root of* `x` *rounded down to the nearest integer*. The returned integer should be **non-negative** as well.\n",
        "\n",
        "You **must not use** any built-in exponent function or operator.\n",
        "\n",
        "- For example, do not use `pow(x, 0.5)` in c++ or `x ** 0.5` in python.\n",
        "\n",
        "**Example 1:**\n",
        "\n",
        "Input: x = 4\n",
        "Output: 2"
      ],
      "metadata": {
        "id": "EvBKJ0kT_elf"
      }
    },
    {
      "cell_type": "code",
      "execution_count": 1,
      "metadata": {
        "colab": {
          "base_uri": "https://localhost:8080/"
        },
        "id": "jZ4uifVN-hF7",
        "outputId": "5d353d10-0bb2-4dc4-eb32-ca8755eacfdc"
      },
      "outputs": [
        {
          "output_type": "stream",
          "name": "stdout",
          "text": [
            "2\n"
          ]
        }
      ],
      "source": [
        "\n",
        "def sqrt(x):\n",
        "    if x == 0:\n",
        "        return 0\n",
        "    guess = x\n",
        "\n",
        "    while True:\n",
        "        better_guess = (guess + x / guess) // 2\n",
        "        if better_guess == guess:\n",
        "            return int(guess)\n",
        "\n",
        "        guess = better_guess\n",
        "\n",
        "\n",
        "x = 4\n",
        "result = sqrt(x)\n",
        "print(result)\n"
      ]
    },
    {
      "cell_type": "markdown",
      "source": [
        "**Question 2**\n",
        "\n",
        "A peak element is an element that is strictly greater than its neighbors.\n",
        "\n",
        "Given a **0-indexed** integer array `nums`, find a peak element, and return its index. If the array contains multiple peaks, return the index to **any of the peaks**.\n",
        "\n",
        "You may imagine that `nums[-1] = nums[n] = -∞`. In other words, an element is always considered to be strictly greater than a neighbor that is outside the array.\n",
        "\n",
        "You must write an algorithm that runs in `O(log n)` time.\n",
        "\n",
        "**Example 1:**\n",
        "Input: nums = [1,2,3,1]\n",
        "Output: 2\n",
        "Explanation: 3 is a peak element and your function should return the index number 2.\n",
        "\n"
      ],
      "metadata": {
        "id": "-9j3Rvd6CskR"
      }
    },
    {
      "cell_type": "code",
      "source": [
        "def peak(nums):\n",
        "  left = 0\n",
        "  right = len(nums) - 1\n",
        "  while left < right:\n",
        "    mid = left + (right - left) // 2\n",
        "    if nums[mid] < nums[mid + 1]:\n",
        "      left = mid + 1\n",
        "    else:\n",
        "      right = mid\n",
        "  return left\n",
        "\n",
        "\n",
        "\n",
        "nums = [1,2,1,3,5,6,4]\n",
        "result = peak(nums)\n",
        "print(result)"
      ],
      "metadata": {
        "colab": {
          "base_uri": "https://localhost:8080/"
        },
        "id": "bFZvfUoJCois",
        "outputId": "4b6c0f9e-7567-4b4c-9cf1-d98b0d65514a"
      },
      "execution_count": 5,
      "outputs": [
        {
          "output_type": "stream",
          "name": "stdout",
          "text": [
            "5\n"
          ]
        }
      ]
    },
    {
      "cell_type": "markdown",
      "source": [
        "**Question 3**\n",
        "\n",
        "****\n",
        "\n",
        "Given an array `nums` containing `n` distinct numbers in the range `[0, n]`, return *the only number in the range that is missing from the array.*\n",
        "\n",
        "**Example 1:**\n",
        "\n",
        "Input: nums = [3,0,1]\n",
        "Output: 2\n",
        "Explanation: n = 3 since there are 3 numbers, so all numbers are in the range [0,3]. 2 is the missing number in the range since it does not appear in nums.\n"
      ],
      "metadata": {
        "id": "-BwRsNfDIfZd"
      }
    },
    {
      "cell_type": "code",
      "source": [
        "\n",
        "def missingelement(nums):\n",
        "  nums.sort()\n",
        "  left = 0\n",
        "  right = len(nums)\n",
        "  while left<right:\n",
        "    mid = (left+right)//2\n",
        "    if nums[mid]>mid:\n",
        "      right = mid\n",
        "    else:\n",
        "      left = mid+1\n",
        "  return left\n",
        "\n",
        "\n",
        "\n",
        "nums = [3,0,1]\n",
        "result = missingelement(nums)\n",
        "print(result)"
      ],
      "metadata": {
        "colab": {
          "base_uri": "https://localhost:8080/"
        },
        "id": "U1zh3zx7HAbq",
        "outputId": "b422ab70-d8ce-4bc7-8678-6ea1de35df44"
      },
      "execution_count": 35,
      "outputs": [
        {
          "output_type": "stream",
          "name": "stdout",
          "text": [
            "2\n"
          ]
        }
      ]
    },
    {
      "cell_type": "markdown",
      "source": [
        " **Question 4**\n",
        "\n",
        "Given an array of integers `nums` containing `n + 1` integers where each integer is in the range `[1, n]` inclusive.\n",
        "\n",
        "There is only **one repeated number** in `nums`, return *this repeated number*.\n",
        "\n",
        "You must solve the problem **without** modifying the array `nums` and uses only constant extra space.\n",
        "\n",
        "**Example 1:**\n",
        "\n",
        "Input: nums = [1,3,4,2,2]\n",
        "Output: 2\n",
        "|"
      ],
      "metadata": {
        "id": "iBmekfrkNzav"
      }
    },
    {
      "cell_type": "code",
      "source": [
        "def findDuplicate(nums):\n",
        "    slow = nums[0]\n",
        "    fast = nums[0]\n",
        "\n",
        "    \n",
        "    while True:\n",
        "        slow = nums[slow]\n",
        "        fast = nums[nums[fast]]\n",
        "        if slow == fast:\n",
        "            break\n",
        "\n",
        "    \n",
        "    slow = nums[0]\n",
        "    while slow != fast:\n",
        "        slow = nums[slow]\n",
        "        fast = nums[fast]\n",
        "\n",
        "    return slow\n",
        "\n",
        "\n",
        "nums = [1, 3, 4, 2, 2]\n",
        "repeated_num = findDuplicate(nums)\n",
        "print(repeated_num)\n"
      ],
      "metadata": {
        "colab": {
          "base_uri": "https://localhost:8080/"
        },
        "id": "TKe3P-eaJpjV",
        "outputId": "cdb1944d-ad12-49a2-a9cc-95c72c829b6b"
      },
      "execution_count": 37,
      "outputs": [
        {
          "output_type": "stream",
          "name": "stdout",
          "text": [
            "2\n"
          ]
        }
      ]
    },
    {
      "cell_type": "markdown",
      "source": [
        " **Question 5**\n",
        "\n",
        "Given two integer arrays `nums1` and `nums2`, return *an array of their intersection*. Each element in the result must be **unique** and you may return the result in **any order**.\n",
        "\n",
        "**Example 1:**\n",
        "Input: nums1 = [1,2,2,1], nums2 = [2,2]\n",
        "Output: [2]\n"
      ],
      "metadata": {
        "id": "G4lj5Q5NRooW"
      }
    },
    {
      "cell_type": "code",
      "source": [
        "def search(nums2,n,target):\n",
        "  l = 0\n",
        "  r = n\n",
        "  while l<r:\n",
        "    mid = (l+r)//2\n",
        "    if nums2[mid] == target:\n",
        "      return nums2[mid]\n",
        "    elif nums2[mid]<target:\n",
        "      l = mid + 1\n",
        "    else:\n",
        "      r = mid - 1\n",
        "  return -1\n",
        "\n",
        "def intersection(nums1,nums2,m,n):\n",
        "  instersection = []\n",
        "  nums2.sort()\n",
        "  for i in range(m):\n",
        "    if search(nums2,n,nums1[i])!=-1:\n",
        "      instersection.append(nums1[i])\n",
        "  return instersection\n",
        "      \n",
        "\n",
        "\n",
        "nums1 = [4,9,5]\n",
        "nums2 = [9,4,9,8,4]\n",
        "m = len(nums1)-1\n",
        "n = len(nums2)-1\n",
        "result = intersection(nums1,nums2,m,n)\n",
        "print(result)"
      ],
      "metadata": {
        "colab": {
          "base_uri": "https://localhost:8080/"
        },
        "id": "5RZHKSw5RvAY",
        "outputId": "bb56c22e-7086-4ce7-b6bb-2a6229ebafd4"
      },
      "execution_count": 21,
      "outputs": [
        {
          "output_type": "stream",
          "name": "stdout",
          "text": [
            "[4, 9]\n"
          ]
        }
      ]
    },
    {
      "cell_type": "markdown",
      "source": [
        " **Question 6**\n",
        "\n",
        "Suppose an array of length `n` sorted in ascending order is **rotated** between `1` and `n` times. For example, the array `nums = [0,1,2,4,5,6,7]` might become:\n",
        "\n",
        "- `[4,5,6,7,0,1,2]` if it was rotated `4` times.\n",
        "- `[0,1,2,4,5,6,7]` if it was rotated `7` times.\n",
        "\n",
        "Notice that **rotating** an array `[a[0], a[1], a[2], ..., a[n-1]]` 1 time results in the array `[a[n-1], a[0], a[1], a[2], ..., a[n-2]]`.\n",
        "\n",
        "Given the sorted rotated array `nums` of **unique** elements, return *the minimum element of this array*.\n",
        "\n",
        "You must write an algorithm that runs in `O(log n) time.`\n",
        "\n",
        "**Example 1:**\n",
        "\n",
        "Input: nums = [3,4,5,1,2]\n",
        "Output: 1\n",
        "Explanation: The original array was [1,2,3,4,5] rotated 3 times.\n"
      ],
      "metadata": {
        "id": "TEyYi8_ZY8-R"
      }
    },
    {
      "cell_type": "code",
      "source": [
        "def minimumelement(nums):\n",
        "  l = 0\n",
        "  r = len(nums)-1\n",
        "  while l<=r:\n",
        "    mid = (l+r)//2\n",
        "    if nums[mid] < nums[mid-1]:\n",
        "      return nums[mid]\n",
        " \n",
        "    elif nums[mid] > nums[r]:\n",
        "      l = mid + 1\n",
        "    else:\n",
        "      r = mid - 1\n",
        " \n",
        "  return -1\n",
        "\n",
        "nums = [4,5,6,7,0,1,2]\n",
        "result = minimumelement(nums)\n",
        "print(result)"
      ],
      "metadata": {
        "colab": {
          "base_uri": "https://localhost:8080/"
        },
        "id": "bDBDZ4beXLTn",
        "outputId": "15a9f0e6-89c0-4c49-f28b-b71a3cb5e6a3"
      },
      "execution_count": 31,
      "outputs": [
        {
          "output_type": "stream",
          "name": "stdout",
          "text": [
            "0\n"
          ]
        }
      ]
    },
    {
      "cell_type": "markdown",
      "source": [
        " **Question 7**\n",
        "\n",
        "Given an array of integers `nums` sorted in non-decreasing order, find the starting and ending position of a given `target` value.\n",
        "\n",
        "If `target` is not found in the array, return `[-1, -1]`.\n",
        "\n",
        "You must write an algorithm with `O(log n)` runtime complexity.\n",
        "\n",
        "**Example 1:**\n",
        "Input: nums = [5,7,7,8,8,10], target = 8\n",
        "Output: [3,4]\n"
      ],
      "metadata": {
        "id": "aKP380cNjU0N"
      }
    },
    {
      "cell_type": "code",
      "source": [
        "def searchRange(nums, target):\n",
        "    left_index = findLeftIndex(nums, target)\n",
        "    if left_index == -1:\n",
        "        return [-1, -1]\n",
        "    right_index = findRightIndex(nums, target)\n",
        "    return [left_index, right_index]\n",
        "\n",
        "def findLeftIndex(nums, target):\n",
        "    left = 0\n",
        "    right = len(nums) - 1\n",
        "    left_index = -1\n",
        "    \n",
        "    while left <= right:\n",
        "        mid = left + (right - left) // 2\n",
        "        \n",
        "        if nums[mid] == target:\n",
        "            left_index = mid\n",
        "            right = mid - 1\n",
        "        elif nums[mid] < target:\n",
        "            left = mid + 1\n",
        "        else:\n",
        "            right = mid - 1\n",
        "    \n",
        "    return left_index\n",
        "\n",
        "def findRightIndex(nums, target):\n",
        "    left = 0\n",
        "    right = len(nums) - 1\n",
        "    right_index = -1\n",
        "    \n",
        "    while left <= right:\n",
        "        mid = left + (right - left) // 2\n",
        "        \n",
        "        if nums[mid] == target:\n",
        "            right_index = mid\n",
        "            left = mid + 1\n",
        "        elif nums[mid] < target:\n",
        "            left = mid + 1\n",
        "        else:\n",
        "            right = mid - 1\n",
        "    \n",
        "    return right_index\n",
        "\n",
        "\n",
        "nums = [5, 7, 7, 8, 8, 10]\n",
        "target = 8\n",
        "result = searchRange(nums, target)\n",
        "print(result)\n"
      ],
      "metadata": {
        "colab": {
          "base_uri": "https://localhost:8080/"
        },
        "id": "WvuIammOehXt",
        "outputId": "f79ce583-adf2-414f-f06e-ed92abcf4c84"
      },
      "execution_count": 33,
      "outputs": [
        {
          "output_type": "stream",
          "name": "stdout",
          "text": [
            "[3, 4]\n"
          ]
        }
      ]
    },
    {
      "cell_type": "markdown",
      "source": [
        "**Question 8**\n",
        "\n",
        "Given two integer arrays `nums1` and `nums2`, return *an array of their intersection*. Each element in the result must appear as many times as it shows in both arrays and you may return the result in **any order**.\n",
        "\n",
        "**Example 1:**\n",
        "Input: nums1 = [1,2,2,1], nums2 = [2,2]\n",
        "Output: [2,2]\n"
      ],
      "metadata": {
        "id": "FTYMi-JekBxA"
      }
    },
    {
      "cell_type": "code",
      "source": [
        "def search(nums2,n,target):\n",
        "  l = 0\n",
        "  r = n\n",
        "  while l<r:\n",
        "    mid = (l+r)//2\n",
        "    if nums2[mid] == target:\n",
        "      return nums2[mid]\n",
        "    elif nums2[mid]<target:\n",
        "      l = mid + 1\n",
        "    else:\n",
        "      r = mid - 1\n",
        "  return -1\n",
        "\n",
        "def intersection(nums1,nums2,m,n):\n",
        "  instersection = []\n",
        "  nums2.sort()\n",
        "  for i in range(m):\n",
        "    if search(nums2,n,nums1[i])!=-1:\n",
        "      instersection.append(nums1[i])\n",
        "  return instersection\n",
        "      \n",
        "\n",
        "\n",
        "nums1 = [4,9,5]\n",
        "nums2 = [9,4,9,8,4]\n",
        "m = len(nums1)-1\n",
        "n = len(nums2)-1\n",
        "result = intersection(nums1,nums2,m,n)\n",
        "print(result)"
      ],
      "metadata": {
        "colab": {
          "base_uri": "https://localhost:8080/"
        },
        "id": "2KFyNnEVj89u",
        "outputId": "5684d7fb-f6d0-4f78-d5d4-e2a0ee8e96c7"
      },
      "execution_count": 34,
      "outputs": [
        {
          "output_type": "stream",
          "name": "stdout",
          "text": [
            "[4, 9]\n"
          ]
        }
      ]
    },
    {
      "cell_type": "code",
      "source": [],
      "metadata": {
        "id": "x6Zv-Te0kUm6"
      },
      "execution_count": null,
      "outputs": []
    }
  ]
}