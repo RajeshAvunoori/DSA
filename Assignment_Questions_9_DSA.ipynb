{
  "nbformat": 4,
  "nbformat_minor": 0,
  "metadata": {
    "colab": {
      "provenance": []
    },
    "kernelspec": {
      "name": "python3",
      "display_name": "Python 3"
    },
    "language_info": {
      "name": "python"
    }
  },
  "cells": [
    {
      "cell_type": "markdown",
      "source": [
        "Question 1\n",
        "\n",
        "Given an integer n, return true if it is a power of two. Otherwise, return false.\n",
        "\n",
        "An integer n is a power of two, if there exists an integer x such that n == 2x.\n",
        "\n",
        "**Example 1:**\n",
        "Input: n = 1\n",
        "Output: true"
      ],
      "metadata": {
        "id": "iPIWgCb1fEWw"
      }
    },
    {
      "cell_type": "code",
      "execution_count": 4,
      "metadata": {
        "colab": {
          "base_uri": "https://localhost:8080/"
        },
        "id": "Ic2VCC0Ke3gP",
        "outputId": "ff1d50b4-ba7d-4c13-df58-6280ec0a3048"
      },
      "outputs": [
        {
          "output_type": "stream",
          "name": "stdout",
          "text": [
            "True\n"
          ]
        }
      ],
      "source": [
        "def powerofTwo(n):\n",
        "  if n%2 == 0 or n == 1:\n",
        "    return True\n",
        "  else:\n",
        "    return False\n",
        "\n",
        "n = 1\n",
        "result = powerofTwo(n)\n",
        "print(result)"
      ]
    },
    {
      "cell_type": "markdown",
      "source": [
        "Question 2\n",
        "\n",
        "Given a number n, find the sum of the first natural numbers.\n",
        "\n",
        "**Example 1:**\n",
        "\n",
        "Input: n = 3 \n",
        "\n",
        "Output: 6"
      ],
      "metadata": {
        "id": "IxbJSyVqfDU-"
      }
    },
    {
      "cell_type": "code",
      "source": [
        "def sumofNaturalNumbers(n):\n",
        "  if n == 0:\n",
        "    return 0\n",
        "  return(n + sumofNaturalNumbers(n-1))\n",
        "    \n",
        "n = 3\n",
        "result = sumofNaturalNumbers(n)\n",
        "print(result)"
      ],
      "metadata": {
        "colab": {
          "base_uri": "https://localhost:8080/"
        },
        "id": "8vBg7hdegmVA",
        "outputId": "552e9058-5451-4418-8a21-53f1fccfa2e7"
      },
      "execution_count": 11,
      "outputs": [
        {
          "output_type": "stream",
          "name": "stdout",
          "text": [
            "6\n"
          ]
        }
      ]
    },
    {
      "cell_type": "markdown",
      "source": [
        "**Question 3**\n",
        "\n",
        "Given a positive integer, N. Find the factorial of N. \n",
        "\n",
        "**Example 1:**\n",
        "\n",
        "Input: N = 5 \n",
        "\n",
        "Output: 120\n",
        "\n",
        "</aside>"
      ],
      "metadata": {
        "id": "RKXMvTyUiESk"
      }
    },
    {
      "cell_type": "code",
      "source": [
        "def factorial(N):\n",
        "  if N == 1:\n",
        "    return 1\n",
        "  return N*factorial(N-1)\n",
        "\n",
        "N = 10\n",
        "result = factorial(N)\n",
        "print(result)"
      ],
      "metadata": {
        "colab": {
          "base_uri": "https://localhost:8080/"
        },
        "id": "81GoKG0XhDAX",
        "outputId": "7d4f3095-4e08-4469-a481-5c05429af11f"
      },
      "execution_count": 14,
      "outputs": [
        {
          "output_type": "stream",
          "name": "stdout",
          "text": [
            "3628800\n"
          ]
        }
      ]
    },
    {
      "cell_type": "markdown",
      "source": [
        "**Question 4**\n",
        "\n",
        "Given a number N and a power P, the task is to find the exponent of this number raised to the given power, i.e. N^P.\n",
        "\n",
        "**Example 1 :** \n",
        "\n",
        "Input: N = 5, P = 2\n",
        "Output: 25\n",
        "\n"
      ],
      "metadata": {
        "id": "qVVEXFFpipNG"
      }
    },
    {
      "cell_type": "code",
      "source": [
        "def exponent(N,P):\n",
        "  if P == 0:\n",
        "    return 1\n",
        "  return N*exponent(N,P-1)\n",
        "\n",
        "N = 2\n",
        "P = 5\n",
        "result = exponent(N,P)\n",
        "print(result)\n"
      ],
      "metadata": {
        "colab": {
          "base_uri": "https://localhost:8080/"
        },
        "id": "X0MZdKQcicn1",
        "outputId": "21977fc3-3102-4555-8009-81c5537620a5"
      },
      "execution_count": 6,
      "outputs": [
        {
          "output_type": "stream",
          "name": "stdout",
          "text": [
            "32\n"
          ]
        }
      ]
    },
    {
      "cell_type": "markdown",
      "source": [
        "**Question 5**\n",
        "\n",
        "Given an array of integers **arr**, the task is to find maximum element of that array using recursion.\n",
        "\n",
        "**Example 1:**\n",
        "\n",
        "Input: arr = {1, 4, 3, -5, -4, 8, 6};\n",
        "Output: 8\n"
      ],
      "metadata": {
        "id": "ojhtUkGoLiWy"
      }
    },
    {
      "cell_type": "code",
      "source": [
        "def maxelement(arr):\n",
        "  j = len(arr)\n",
        "  max  = 0\n",
        "  for i in range(j-1):\n",
        "    if max<arr[i]:\n",
        "      max = arr[i]\n",
        "  return max\n",
        "\n",
        "arr = [1, 4, 3, -5, -4, 8, 6]\n",
        "result = maxelement(arr)\n",
        "print(result)\n"
      ],
      "metadata": {
        "colab": {
          "base_uri": "https://localhost:8080/"
        },
        "id": "Q0nGqIejLXjZ",
        "outputId": "d8efdf06-5223-448b-b859-6a3860c488e7"
      },
      "execution_count": 42,
      "outputs": [
        {
          "output_type": "stream",
          "name": "stdout",
          "text": [
            "100\n"
          ]
        }
      ]
    },
    {
      "cell_type": "markdown",
      "source": [
        " **Question 6**\n",
        "\n",
        "Given first term (a), common difference (d) and a integer N of the Arithmetic Progression series, the task is to find Nth term of the series.\n",
        "\n",
        "**Example 1:**\n",
        "\n",
        "Input : a = 2 d = 1 N = 5\n",
        "Output : 6\n",
        "\n"
      ],
      "metadata": {
        "id": "PrXRRU4zMX4n"
      }
    },
    {
      "cell_type": "code",
      "source": [
        "def nthTerm(a,d,N):\n",
        "  if N == 1:\n",
        "    return a\n",
        "  return d+nthTerm(a,d,N-1)\n",
        "\n",
        "a = 2\n",
        "d = 3\n",
        "N = 5\n",
        "result = nthTerm(a,d,N)\n",
        "print(result)"
      ],
      "metadata": {
        "colab": {
          "base_uri": "https://localhost:8080/"
        },
        "id": "G3bN1SoOMdgh",
        "outputId": "b2e20aa4-f8c2-4336-a974-3ef9569109e8"
      },
      "execution_count": 21,
      "outputs": [
        {
          "output_type": "stream",
          "name": "stdout",
          "text": [
            "14\n"
          ]
        }
      ]
    },
    {
      "cell_type": "markdown",
      "source": [
        " **Question 7**\n",
        "\n",
        "Given a string S, the task is to write a program to print all permutations of a given string.\n",
        "\n",
        "**Example 1:**\n",
        "\n",
        "***Input:***\n",
        "\n",
        "*S = “ABC”*\n",
        "\n",
        "***Output:***\n",
        "\n",
        "*“ABC”, “ACB”, “BAC”, “BCA”, “CBA”, “CAB”*\n"
      ],
      "metadata": {
        "id": "JMGH5CAQPGg5"
      }
    },
    {
      "cell_type": "code",
      "source": [
        "def permute(prefix, remaining):\n",
        "    if len(remaining) == 0:\n",
        "        print(prefix)\n",
        "    else:\n",
        "        for i in range(len(remaining)):\n",
        "            permute(prefix + remaining[i], remaining[:i] + remaining[i+1:])\n",
        "\n",
        "def Permutations(string):\n",
        "    permute(\"\", string)\n",
        "\n",
        "string = \"ABC\"\n",
        "result = Permutations(string)\n",
        "print(result)\n"
      ],
      "metadata": {
        "colab": {
          "base_uri": "https://localhost:8080/"
        },
        "id": "510Ujl09Nib7",
        "outputId": "22c26601-b7af-46f1-a8d0-9a3f3a2983e8"
      },
      "execution_count": 40,
      "outputs": [
        {
          "output_type": "stream",
          "name": "stdout",
          "text": [
            "ABC\n",
            "ACB\n",
            "BAC\n",
            "BCA\n",
            "CAB\n",
            "CBA\n",
            "None\n"
          ]
        }
      ]
    },
    {
      "cell_type": "markdown",
      "source": [
        " **Question 8**\n",
        "\n",
        "Given an array, find a product of all array elements.\n",
        "\n",
        "**Example 1:**\n",
        "\n",
        "Input  : arr[] = {1, 2, 3, 4, 5}\n",
        "Output : 120\n",
        "\n"
      ],
      "metadata": {
        "id": "0uDgDjL1PjXm"
      }
    },
    {
      "cell_type": "code",
      "source": [
        "def arrProduct(arr):\n",
        "    if len(arr) == 0:\n",
        "        return 1\n",
        "    return arr[0] * arrProduct(arr[1:])\n",
        "\n",
        "\n",
        "arr = [1, 2, 3, 4, 5,10]\n",
        "result = arrProduct(arr)\n",
        "print(result)"
      ],
      "metadata": {
        "colab": {
          "base_uri": "https://localhost:8080/"
        },
        "id": "L-qT0V6GPlYL",
        "outputId": "bb179329-597c-4476-ec5d-8cf135c96a55"
      },
      "execution_count": 32,
      "outputs": [
        {
          "output_type": "stream",
          "name": "stdout",
          "text": [
            "1200\n"
          ]
        }
      ]
    },
    {
      "cell_type": "code",
      "source": [
        "arr[:3]"
      ],
      "metadata": {
        "colab": {
          "base_uri": "https://localhost:8080/"
        },
        "id": "6boSct8ATOdh",
        "outputId": "ad31413e-3c65-4359-a6ae-49570e6c4805"
      },
      "execution_count": 35,
      "outputs": [
        {
          "output_type": "execute_result",
          "data": {
            "text/plain": [
              "[1, 2, 3]"
            ]
          },
          "metadata": {},
          "execution_count": 35
        }
      ]
    },
    {
      "cell_type": "code",
      "source": [],
      "metadata": {
        "id": "HR5-F5YAU_CS"
      },
      "execution_count": null,
      "outputs": []
    }
  ]
}